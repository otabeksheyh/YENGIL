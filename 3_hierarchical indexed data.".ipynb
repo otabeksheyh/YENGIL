{
 "cells": [
  {
   "cell_type": "markdown",
   "id": "f63bb799",
   "metadata": {},
   "source": [
    "### import numpy as np\n",
    "import pandas as pd"
   ]
  },
  {
   "cell_type": "code",
   "execution_count": 4,
   "id": "8342e289",
   "metadata": {},
   "outputs": [],
   "source": [
    "#multi indexkash = HIERARCHICAL index shajaraham deyiladi"
   ]
  },
  {
   "cell_type": "code",
   "execution_count": 7,
   "id": "bb8ca1e4",
   "metadata": {},
   "outputs": [
    {
     "data": {
      "text/plain": [
       "Index(['a', 'a', 'a', 'b', 'b', 'c', 'c', 'd', 'd'], dtype='object')"
      ]
     },
     "execution_count": 7,
     "metadata": {},
     "output_type": "execute_result"
    }
   ],
   "source": [
    "data = pd.Series(np.random.randn(9),index=['a','a','a','b','b','c','c','d','d']) # odatiy indexli series\n",
    "data.index\n"
   ]
  },
  {
   "cell_type": "code",
   "execution_count": 9,
   "id": "5485f76c",
   "metadata": {},
   "outputs": [
    {
     "data": {
      "text/plain": [
       "a  1   -0.440516\n",
       "   2    0.464118\n",
       "   3    1.361081\n",
       "b  1   -0.412269\n",
       "   3    1.078040\n",
       "c  1   -0.301764\n",
       "   2   -0.204495\n",
       "d  2    1.108194\n",
       "   3   -0.452046\n",
       "dtype: float64"
      ]
     },
     "execution_count": 9,
     "metadata": {},
     "output_type": "execute_result"
    }
   ],
   "source": [
    "data1 = pd.Series(np.random.randn(9),\n",
    "  index=[['a','a','a','b','b','c','c','d','d'],[1,2,3,1,3,1,2,2,3]]) # HIERARCHICAL index indexkli series\n",
    "data1"
   ]
  },
  {
   "cell_type": "code",
   "execution_count": 11,
   "id": "421637ce",
   "metadata": {},
   "outputs": [
    {
     "data": {
      "text/plain": [
       "MultiIndex([('a', 1),\n",
       "            ('a', 2),\n",
       "            ('a', 3),\n",
       "            ('b', 1),\n",
       "            ('b', 3),\n",
       "            ('c', 1),\n",
       "            ('c', 2),\n",
       "            ('d', 2),\n",
       "            ('d', 3)],\n",
       "           )"
      ]
     },
     "execution_count": 11,
     "metadata": {},
     "output_type": "execute_result"
    }
   ],
   "source": [
    "data1.index # mana multik indeksga aylandi"
   ]
  },
  {
   "cell_type": "code",
   "execution_count": 12,
   "id": "38f8159f",
   "metadata": {},
   "outputs": [],
   "source": [
    "# malumotlarni ajratib olish"
   ]
  },
  {
   "cell_type": "code",
   "execution_count": 13,
   "id": "c76e318d",
   "metadata": {},
   "outputs": [
    {
     "data": {
      "text/plain": [
       "a  1   -0.440516\n",
       "   2    0.464118\n",
       "   3    1.361081\n",
       "b  1   -0.412269\n",
       "   3    1.078040\n",
       "c  1   -0.301764\n",
       "   2   -0.204495\n",
       "d  2    1.108194\n",
       "   3   -0.452046\n",
       "dtype: float64"
      ]
     },
     "execution_count": 13,
     "metadata": {},
     "output_type": "execute_result"
    }
   ],
   "source": [
    "data1"
   ]
  },
  {
   "cell_type": "code",
   "execution_count": 15,
   "id": "5fccf90a",
   "metadata": {},
   "outputs": [
    {
     "data": {
      "text/plain": [
       "1   -0.440516\n",
       "2    0.464118\n",
       "3    1.361081\n",
       "dtype: float64"
      ]
     },
     "execution_count": 15,
     "metadata": {},
     "output_type": "execute_result"
    }
   ],
   "source": [
    "data1['a'] # subsetlarni ajratib beradi"
   ]
  },
  {
   "cell_type": "code",
   "execution_count": 17,
   "id": "618f64d1",
   "metadata": {},
   "outputs": [
    {
     "data": {
      "text/plain": [
       "a  1   -0.312248\n",
       "   2   -0.246758\n",
       "   3   -0.189063\n",
       "b  1   -0.063681\n",
       "   3    0.228888\n",
       "dtype: float64"
      ]
     },
     "execution_count": 17,
     "metadata": {},
     "output_type": "execute_result"
    }
   ],
   "source": [
    "data.loc['a':'b']"
   ]
  },
  {
   "cell_type": "code",
   "execution_count": 18,
   "id": "0bc3739e",
   "metadata": {},
   "outputs": [],
   "source": [
    "#  unstack"
   ]
  },
  {
   "cell_type": "code",
   "execution_count": 19,
   "id": "1b4d1ada",
   "metadata": {},
   "outputs": [
    {
     "data": {
      "text/plain": [
       "a  1   -0.440516\n",
       "   2    0.464118\n",
       "   3    1.361081\n",
       "b  1   -0.412269\n",
       "   3    1.078040\n",
       "c  1   -0.301764\n",
       "   2   -0.204495\n",
       "d  2    1.108194\n",
       "   3   -0.452046\n",
       "dtype: float64"
      ]
     },
     "execution_count": 19,
     "metadata": {},
     "output_type": "execute_result"
    }
   ],
   "source": [
    "data1"
   ]
  },
  {
   "cell_type": "code",
   "execution_count": 20,
   "id": "57928f32",
   "metadata": {},
   "outputs": [
    {
     "data": {
      "text/html": [
       "<div>\n",
       "<style scoped>\n",
       "    .dataframe tbody tr th:only-of-type {\n",
       "        vertical-align: middle;\n",
       "    }\n",
       "\n",
       "    .dataframe tbody tr th {\n",
       "        vertical-align: top;\n",
       "    }\n",
       "\n",
       "    .dataframe thead th {\n",
       "        text-align: right;\n",
       "    }\n",
       "</style>\n",
       "<table border=\"1\" class=\"dataframe\">\n",
       "  <thead>\n",
       "    <tr style=\"text-align: right;\">\n",
       "      <th></th>\n",
       "      <th>1</th>\n",
       "      <th>2</th>\n",
       "      <th>3</th>\n",
       "    </tr>\n",
       "  </thead>\n",
       "  <tbody>\n",
       "    <tr>\n",
       "      <th>a</th>\n",
       "      <td>-0.440516</td>\n",
       "      <td>0.464118</td>\n",
       "      <td>1.361081</td>\n",
       "    </tr>\n",
       "    <tr>\n",
       "      <th>b</th>\n",
       "      <td>-0.412269</td>\n",
       "      <td>NaN</td>\n",
       "      <td>1.078040</td>\n",
       "    </tr>\n",
       "    <tr>\n",
       "      <th>c</th>\n",
       "      <td>-0.301764</td>\n",
       "      <td>-0.204495</td>\n",
       "      <td>NaN</td>\n",
       "    </tr>\n",
       "    <tr>\n",
       "      <th>d</th>\n",
       "      <td>NaN</td>\n",
       "      <td>1.108194</td>\n",
       "      <td>-0.452046</td>\n",
       "    </tr>\n",
       "  </tbody>\n",
       "</table>\n",
       "</div>"
      ],
      "text/plain": [
       "          1         2         3\n",
       "a -0.440516  0.464118  1.361081\n",
       "b -0.412269       NaN  1.078040\n",
       "c -0.301764 -0.204495       NaN\n",
       "d       NaN  1.108194 -0.452046"
      ]
     },
     "execution_count": 20,
     "metadata": {},
     "output_type": "execute_result"
    }
   ],
   "source": [
    "data1.unstack() # sochilgan serieslar df korinishida qaytardi"
   ]
  },
  {
   "cell_type": "code",
   "execution_count": 21,
   "id": "a8c0f047",
   "metadata": {},
   "outputs": [],
   "source": [
    "# stack"
   ]
  },
  {
   "cell_type": "code",
   "execution_count": 22,
   "id": "25eaf6e5",
   "metadata": {},
   "outputs": [
    {
     "data": {
      "text/plain": [
       "a  1   -0.440516\n",
       "   2    0.464118\n",
       "   3    1.361081\n",
       "b  1   -0.412269\n",
       "   3    1.078040\n",
       "c  1   -0.301764\n",
       "   2   -0.204495\n",
       "d  2    1.108194\n",
       "   3   -0.452046\n",
       "dtype: float64"
      ]
     },
     "execution_count": 22,
     "metadata": {},
     "output_type": "execute_result"
    }
   ],
   "source": [
    "data1.unstack().stack() # unstackni teskari vazifasini bajaradi"
   ]
  },
  {
   "cell_type": "code",
   "execution_count": null,
   "id": "356ce43f",
   "metadata": {},
   "outputs": [],
   "source": []
  }
 ],
 "metadata": {
  "kernelspec": {
   "display_name": "Python 3 (ipykernel)",
   "language": "python",
   "name": "python3"
  },
  "language_info": {
   "codemirror_mode": {
    "name": "ipython",
    "version": 3
   },
   "file_extension": ".py",
   "mimetype": "text/x-python",
   "name": "python",
   "nbconvert_exporter": "python",
   "pygments_lexer": "ipython3",
   "version": "3.9.7"
  }
 },
 "nbformat": 4,
 "nbformat_minor": 5
}
